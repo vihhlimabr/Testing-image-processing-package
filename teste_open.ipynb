{
 "cells": [
  {
   "cell_type": "code",
   "execution_count": 1,
   "metadata": {},
   "outputs": [],
   "source": [
    "from vihhlima_image_processing.utils import io\n"
   ]
  },
  {
   "cell_type": "code",
   "execution_count": 5,
   "metadata": {},
   "outputs": [
    {
     "data": {
      "text/plain": [
       "array([[[ 61,  50,  46],\n",
       "        [ 60,  49,  45],\n",
       "        [ 60,  49,  43],\n",
       "        ...,\n",
       "        [  3,   2,   0],\n",
       "        [  2,   1,   0],\n",
       "        [  1,   0,   0]],\n",
       "\n",
       "       [[ 57,  46,  42],\n",
       "        [ 57,  46,  40],\n",
       "        [ 59,  48,  42],\n",
       "        ...,\n",
       "        [  2,   1,   0],\n",
       "        [  2,   1,   0],\n",
       "        [  2,   1,   0]],\n",
       "\n",
       "       [[ 61,  50,  44],\n",
       "        [ 59,  49,  40],\n",
       "        [ 57,  47,  38],\n",
       "        ...,\n",
       "        [  3,   2,   0],\n",
       "        [  3,   2,   0],\n",
       "        [  4,   3,   1]],\n",
       "\n",
       "       ...,\n",
       "\n",
       "       [[ 19,  21,   8],\n",
       "        [ 20,  22,   9],\n",
       "        [ 21,  23,  10],\n",
       "        ...,\n",
       "        [106,  99,  73],\n",
       "        [109, 101,  78],\n",
       "        [105,  99,  75]],\n",
       "\n",
       "       [[ 24,  26,  13],\n",
       "        [ 23,  25,  12],\n",
       "        [ 21,  23,  10],\n",
       "        ...,\n",
       "        [117, 110,  82],\n",
       "        [119, 112,  84],\n",
       "        [114, 109,  80]],\n",
       "\n",
       "       [[ 19,  21,   8],\n",
       "        [ 21,  23,  10],\n",
       "        [ 22,  24,  11],\n",
       "        ...,\n",
       "        [126, 117,  88],\n",
       "        [126, 117,  88],\n",
       "        [126, 119,  90]]], dtype=uint8)"
      ]
     },
     "execution_count": 5,
     "metadata": {},
     "output_type": "execute_result"
    }
   ],
   "source": [
    "io.read_image(\"D:/Python/Curso pyhton bootcamp/Testando image processing package/insect-gc48d2cf7e_1920.jpg\")\n"
   ]
  }
 ],
 "metadata": {
  "kernelspec": {
   "display_name": "Python 3.10.7 64-bit",
   "language": "python",
   "name": "python3"
  },
  "language_info": {
   "codemirror_mode": {
    "name": "ipython",
    "version": 3
   },
   "file_extension": ".py",
   "mimetype": "text/x-python",
   "name": "python",
   "nbconvert_exporter": "python",
   "pygments_lexer": "ipython3",
   "version": "3.10.7"
  },
  "orig_nbformat": 4,
  "vscode": {
   "interpreter": {
    "hash": "fb071969cc081d156db4658a52cc12ff3302089485c0c8cb524fcf02c6362775"
   }
  }
 },
 "nbformat": 4,
 "nbformat_minor": 2
}
